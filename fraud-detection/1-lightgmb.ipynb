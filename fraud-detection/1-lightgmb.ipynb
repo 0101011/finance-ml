{
 "cells": [
  {
   "cell_type": "code",
   "execution_count": null,
   "metadata": {},
   "outputs": [],
   "source": [
    "import numpy as np\n",
    "import pandas as pd\n",
    "import lightgbm as lgb\n",
    "\n",
    "import os, sys\n",
    "import json, requests\n",
    "import sklearn\n",
    "import aiohttp\n",
    "import asyncio\n",
    "\n",
    "from collections import Counter\n",
    "from IPython.core.display import display, HTML\n",
    "from utils import (split_train_test, classification_metrics_binary, classification_metrics_binary_prob,\n",
    "                   binarize_prediction, plot_confusion_matrix, run_load_test, read_from_sqlite)\n",
    "from utils import BASELINE_MODEL, PORT, TABLE_FRAUD, TABLE_LOCATIONS, DATABASE_FILE\n",
    "\n",
    "%load_ext autoreload\n",
    "%autoreload 2"
   ]
  },
  {
   "cell_type": "code",
   "execution_count": null,
   "metadata": {},
   "outputs": [],
   "source": []
  }
 ],
 "metadata": {
  "kernelspec": {
   "display_name": "Python 3",
   "language": "python",
   "name": "python3"
  },
  "language_info": {
   "codemirror_mode": {
    "name": "ipython",
    "version": 3
   },
   "file_extension": ".py",
   "mimetype": "text/x-python",
   "name": "python",
   "nbconvert_exporter": "python",
   "pygments_lexer": "ipython3",
   "version": "3.7.4"
  }
 },
 "nbformat": 4,
 "nbformat_minor": 2
}
